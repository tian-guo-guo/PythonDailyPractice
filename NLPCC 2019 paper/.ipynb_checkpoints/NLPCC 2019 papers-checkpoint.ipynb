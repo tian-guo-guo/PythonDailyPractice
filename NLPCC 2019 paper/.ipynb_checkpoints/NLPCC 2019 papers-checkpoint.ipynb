{
 "cells": [
  {
   "cell_type": "code",
   "execution_count": 48,
   "metadata": {},
   "outputs": [
    {
     "name": "stdout",
     "output_type": "stream",
     "text": [
      "176\n"
     ]
    }
   ],
   "source": [
    "import requests\n",
    "from lxml import etree\n",
    "\n",
    "result = requests.get('http://tcci.ccf.org.cn/conference/2019/pro_session.php').content\n",
    "html = etree.HTML(result)\n",
    "names = html.xpath(\"//div[@class='programtitle']/a/span/text()\")\n",
    "# //div[@class='programtitle']/a/span/text() # 176\n",
    "print(len(names)) # 解析出来176个标题"
   ]
  },
  {
   "cell_type": "code",
   "execution_count": 6,
   "metadata": {},
   "outputs": [
    {
     "name": "stdout",
     "output_type": "stream",
     "text": [
      "232\n"
     ]
    }
   ],
   "source": [
    "links = html.xpath(\"//div[@class='programtitle']/a/@href\")\n",
    "print(len(links)) # 解析出232个PDF"
   ]
  },
  {
   "cell_type": "code",
   "execution_count": 45,
   "metadata": {},
   "outputs": [
    {
     "data": {
      "text/plain": [
       "'./papers/.pdf'"
      ]
     },
     "execution_count": 45,
     "metadata": {},
     "output_type": "execute_result"
    }
   ],
   "source": [
    "# 但有的PDF并不存在，就像这样的\n",
    "links[0]"
   ]
  },
  {
   "cell_type": "code",
   "execution_count": 53,
   "metadata": {},
   "outputs": [
    {
     "data": {
      "text/plain": [
       "164"
      ]
     },
     "execution_count": 53,
     "metadata": {},
     "output_type": "execute_result"
    }
   ],
   "source": [
    "# 然后我去观察了一下网页，找到了原因，删除不存在的文件，还剩下164个\n",
    "for i in links:\n",
    "    if i.endswith('/.pdf'):\n",
    "        links.remove(i)\n",
    "len(links)"
   ]
  },
  {
   "cell_type": "markdown",
   "metadata": {},
   "source": [
    "把names和links分别存到txt当中，并读取"
   ]
  },
  {
   "cell_type": "code",
   "execution_count": 61,
   "metadata": {},
   "outputs": [],
   "source": [
    "with open('names.txt', 'w') as f:\n",
    "    for i in names:\n",
    "        f.write(i)\n",
    "        f.write('\\n')"
   ]
  },
  {
   "cell_type": "code",
   "execution_count": 62,
   "metadata": {},
   "outputs": [],
   "source": [
    "with open('links.txt', 'w') as f:\n",
    "    for i in links:\n",
    "        f.write(i)\n",
    "        f.write('\\n')"
   ]
  },
  {
   "cell_type": "code",
   "execution_count": 67,
   "metadata": {},
   "outputs": [
    {
     "data": {
      "text/plain": [
       "164"
      ]
     },
     "execution_count": 67,
     "metadata": {},
     "output_type": "execute_result"
    }
   ],
   "source": [
    "with open('names.txt', 'r') as f: \n",
    "    names = [i.strip() for i in f.readlines()]\n",
    "len(names)"
   ]
  },
  {
   "cell_type": "code",
   "execution_count": 68,
   "metadata": {},
   "outputs": [
    {
     "data": {
      "text/plain": [
       "'Overview of the NLPCC 2019 Shared Task: Cross-Domain Dependency Parsing'"
      ]
     },
     "execution_count": 68,
     "metadata": {},
     "output_type": "execute_result"
    }
   ],
   "source": [
    "# 名字正确了\n",
    "names[0]"
   ]
  },
  {
   "cell_type": "code",
   "execution_count": 69,
   "metadata": {},
   "outputs": [
    {
     "data": {
      "text/plain": [
       "164"
      ]
     },
     "execution_count": 69,
     "metadata": {},
     "output_type": "execute_result"
    }
   ],
   "source": [
    "with open('links.txt', 'r') as f: \n",
    "    links = [i.strip() for i in f.readlines()]\n",
    "len(links)"
   ]
  },
  {
   "cell_type": "code",
   "execution_count": 70,
   "metadata": {},
   "outputs": [
    {
     "data": {
      "text/plain": [
       "'./papers/EV21.pdf'"
      ]
     },
     "execution_count": 70,
     "metadata": {},
     "output_type": "execute_result"
    }
   ],
   "source": [
    "# 链接正确了\n",
    "links[0]"
   ]
  },
  {
   "cell_type": "code",
   "execution_count": 44,
   "metadata": {},
   "outputs": [
    {
     "data": {
      "text/plain": [
       "<Element span at 0x108934388>"
      ]
     },
     "execution_count": 44,
     "metadata": {},
     "output_type": "execute_result"
    }
   ],
   "source": [
    "names[0] # 没用，是为了解决一个下载对象报错问题"
   ]
  },
  {
   "cell_type": "code",
   "execution_count": 71,
   "metadata": {},
   "outputs": [
    {
     "name": "stdout",
     "output_type": "stream",
     "text": [
      "164\n"
     ]
    }
   ],
   "source": [
    "# 拼接链接\n",
    "link_all = []\n",
    "for i in links:\n",
    "    link = 'http://tcci.ccf.org.cn/conference/2019'+ i \n",
    "    link_all.append(link)\n",
    "print(len(link_all))"
   ]
  },
  {
   "cell_type": "code",
   "execution_count": 72,
   "metadata": {},
   "outputs": [
    {
     "data": {
      "text/plain": [
       "'http://tcci.ccf.org.cn/conference/2019./papers/EV21.pdf'"
      ]
     },
     "execution_count": 72,
     "metadata": {},
     "output_type": "execute_result"
    }
   ],
   "source": [
    "link_all[0]"
   ]
  },
  {
   "cell_type": "code",
   "execution_count": 76,
   "metadata": {
    "scrolled": true
   },
   "outputs": [
    {
     "name": "stdout",
     "output_type": "stream",
     "text": [
      "Downlodaing Overview of the NLPCC 2019 Shared Task: Cross-Domain Dependency Parsing http://tcci.ccf.org.cn/conference/2019./papers/EV21.pdf\n",
      "Downlodaing Domain information Enhanced Dependency Parser http://tcci.ccf.org.cn/conference/2019./papers/EV14.pdf\n",
      "Downlodaing Cross-Domain Transfer Learning for Dependency Parsing http://tcci.ccf.org.cn/conference/2019./papers/EV1.pdf\n",
      "Downlodaing Overview of the NLPCC 2019 Shared Task: Open-Domain Semantic Parsing http://tcci.ccf.org.cn/conference/2019./papers/EV20.pdf\n",
      "Downlodaing A Sketch-Based System for Semantic Parsing http://tcci.ccf.org.cn/conference/2019./papers/EV18.pdf\n",
      "Downlodaing A Transformer-based Semantic Parser for NLPCC-2019 Shared Task 2 http://tcci.ccf.org.cn/conference/2019./papers/EV15.pdf\n",
      "Downlodaing Overview of the NLPCC 2019 Shared Task: Open Domain Conversation http://tcci.ccf.org.cn/conference/2019./papers/EV23.pdf\n",
      "Downlodaing An Overview of the 2019 Language and Intelligence Challenge http://tcci.ccf.org.cn/conference/2019./papers/EV22.pdf\n",
      "Downlodaing DuIE: A Large-scale Chinese Dataset for Information Extraction http://tcci.ccf.org.cn/conference/2019./papers/EV10.pdf\n",
      "Downlodaing BERT-Based Multi-Head Selection for Joint Entity-Relation Extraction http://tcci.ccf.org.cn/conference/2019./papers/EV6.pdf\n",
      "Downlodaing Goal-oriented Knowledge-driven Neural Dialog Generation System http://tcci.ccf.org.cn/conference/2019./papers/EV16.pdf\n",
      "Downlodaing Multple Perspective Answer Reranking for Multi-Passage Reading Comprehension http://tcci.ccf.org.cn/conference/2019./papers/EV12.pdf\n",
      "Downlodaing Proactive Knowledge-Goals Dialogue System Based on Pointer Network http://tcci.ccf.org.cn/conference/2019./papers/EV7.pdf\n",
      "Downlodaing A Relation Proposal Network for End-to-End Information Extraction http://tcci.ccf.org.cn/conference/2019./papers/EV9.pdf\n",
      "Downlodaing Explainable AI: A Brief Survey on History, Research Areas, Approaches and Challenges http://tcci.ccf.org.cn/conference/2019./papers/XAI105.pdf\n",
      "Downlodaing Disentangling Latent Emotions of Word Embeddings On Complex Emotional Narratives http://tcci.ccf.org.cn/conference/2019./papers/XAI93.pdf\n",
      "Downlodaing Interpretable Spatial-Temporal Attention Graph Convolution Network for Service Part Hierarchical Demand Forecast http://tcci.ccf.org.cn/conference/2019./papers/XAI99.pdf\n",
      "Downlodaing Feature-less End-to-End Nested Term Extraction http://tcci.ccf.org.cn/conference/2019./papers/XAI96.pdf\n",
      "Downlodaing Modeling Human Intelligence in Customer-Agent Conversation Using Fine-Grained Dialogue Acts http://tcci.ccf.org.cn/conference/2019./papers/XAI95.pdf\n",
      "Downlodaing Using Aspect-based Analytsis for explainable Sentiment Predictions http://tcci.ccf.org.cn/conference/2019./papers/XAI98.pdf\n",
      "Downlodaing A Modified LIME and its Application to Explain Service Supply Chain Forecasting http://tcci.ccf.org.cn/conference/2019./papers/XAI101.pdf\n",
      "Downlodaing Crosslingual Neural Vector Conceptualization http://tcci.ccf.org.cn/conference/2019./papers/XAI102.pdf\n",
      "Downlodaing Discrimination Assessment for Saliency Maps http://tcci.ccf.org.cn/conference/2019./papers/XAI100.pdf\n",
      "Downlodaing 基于句法结构的神经网络复述识别模型 http://tcci.ccf.org.cn/conference/2019./papers/CN27.pdf\n",
      "Downlodaing 汉语篇章小句关联结构的表示与识别研究 http://tcci.ccf.org.cn/conference/2019./papers/CN44.pdf\n",
      "Downlodaing A Word Segmentation Method of Ancient Chinese Based on Word Alignment http://tcci.ccf.org.cn/conference/2019./papers/212.pdf\n",
      "Downlodaing HConstructing Chinese Macro Discourse Tree via Multiple Views and Word Pair Similarity http://tcci.ccf.org.cn/conference/2019./papers/239.pdf\n",
      "Downlodaing Dependency-Gated Cascade Biaffine Network for Chinese Semantic Dependency Parsing http://tcci.ccf.org.cn/conference/2019./papers/369.pdf\n",
      "Downlodaing Multi-Strategies Method for Cold-Start Stage Question Matching of rQA Task http://tcci.ccf.org.cn/conference/2019./papers/152.pdf\n",
      "Downlodaing SMART: A Stratified Machine Reading Test http://tcci.ccf.org.cn/conference/2019./papers/180.pdf\n",
      "Downlodaing Bi-directional Capsule Network Model for Chinese Biomedical Community Question Answering http://tcci.ccf.org.cn/conference/2019./papers/249.pdf\n",
      "Downlodaing Neural Response Generation with Relevant Emotions for Short Text Conversation http://tcci.ccf.org.cn/conference/2019./papers/300.pdf\n",
      "Downlodaing Many vs. Many Query Matching with Hierarchical BERT and Transformer http://tcci.ccf.org.cn/conference/2019./papers/375.pdf\n",
      "Downlodaing A Knowledge Selective Adversarial Network for Link Prediction in Knowledge Graph http://tcci.ccf.org.cn/conference/2019./papers/85.pdf\n",
      "Downlodaing Feature-level Attention based Sentence Encoding for Neural Relation Extraction http://tcci.ccf.org.cn/conference/2019./papers/157.pdf\n",
      "Downlodaing Domain Representation for Knowledge Graph Embedding http://tcci.ccf.org.cn/conference/2019./papers/232.pdf\n",
      "Downlodaing Evidence Distilling For Fact Extraction And Verification http://tcci.ccf.org.cn/conference/2019./papers/344.pdf\n",
      "Downlodaing Cosine-based Embedding for Completing Schematic Knowledge http://tcci.ccf.org.cn/conference/2019./papers/393.pdf\n",
      "Downlodaing Select Best Translation from Different Systems without Reference http://tcci.ccf.org.cn/conference/2019./papers/229.pdf\n",
      "Downlodaing Word Position Aware Translation Memory for Neural Machine Translation http://tcci.ccf.org.cn/conference/2019./papers/244.pdf\n",
      "Downlodaing Cross Aggregation of Multi-Head Attention for Neural Machine Translation http://tcci.ccf.org.cn/conference/2019./papers/279.pdf\n",
      "Downlodaing Learning Unsupervised Word Mapping via Maximum Mean Discrepancy http://tcci.ccf.org.cn/conference/2019./papers/159.pdf\n",
      "Downlodaing Solving Chinese Character Puzzles Based on Character Strokes http://tcci.ccf.org.cn/conference/2019./papers/274.pdf\n",
      "Downlodaing Learning Personalized End-to-End task-Oriented Dialogue Generation http://tcci.ccf.org.cn/conference/2019./papers/175.pdf\n",
      "Downlodaing How Question Generation can Help Question Answering over Knowledge Base http://tcci.ccf.org.cn/conference/2019./papers/183.pdf\n",
      "Downlodaing 中文人机对话的主体识别 http://tcci.ccf.org.cn/conference/2019./papers/CN102.pdf\n",
      "Downlodaing We Know What You Will Ask: A Dialogue System for Multi-Intent Switch and Prediction http://tcci.ccf.org.cn/conference/2019./papers/211.pdf\n",
      "Downlodaing 唐诗意象图谱构建 http://tcci.ccf.org.cn/conference/2019./papers/CN37.pdf\n",
      "Downlodaing 融合门控机制的远程监督关系抽取方法 http://tcci.ccf.org.cn/conference/2019./papers/CN83.pdf\n",
      "Downlodaing Improving Multi-Head Attention with CapsuleNetworks http://tcci.ccf.org.cn/conference/2019./papers/318.pdf\n",
      "Downlodaing Linguistic Feature Embedding with Statistical Relation Learning for Readability Assessment http://tcci.ccf.org.cn/conference/2019./papers/370.pdf\n",
      "Downlodaing Improved DeepWalk Algorithm Based on Preference Random Walk http://tcci.ccf.org.cn/conference/2019./papers/45.pdf\n",
      "Downlodaing Automatic Translating between Ancient Chinese and Contemporary Chinese with Limited Sentence-aligned Corpora http://tcci.ccf.org.cn/conference/2019./papers/35.pdf\n",
      "Downlodaing Effective Soft-Adaptation for Neural Machine Translation http://tcci.ccf.org.cn/conference/2019./papers/190.pdf\n",
      "Downlodaing Neural Machine Translation with Bilingual History Involved Attention http://tcci.ccf.org.cn/conference/2019./papers/200.pdf\n",
      "Downlodaing An Analytical Study on A Benchmark Corpus Constructed for Related Work Generation http://tcci.ccf.org.cn/conference/2019./papers/107.pdf\n",
      "Downlodaing Applying Data Discretization to DPCNN for Law Article Prediction http://tcci.ccf.org.cn/conference/2019./papers/231.pdf\n",
      "Downlodaing Charge Prediction with Legal Attention http://tcci.ccf.org.cn/conference/2019./papers/208.pdf\n",
      "Downlodaing Predicting Popular News Comments Based on Multi-Target Text Matching Model http://tcci.ccf.org.cn/conference/2019./papers/103.pdf\n",
      "Downlodaing Neural Networks Merging Semantic and Non-semantic Features for Opinion Spam Detection http://tcci.ccf.org.cn/conference/2019./papers/17.pdf\n",
      "Downlodaing A Neural Topic Model based on Variational Auto-encoder for Aspect Extraction from Opinion Texts http://tcci.ccf.org.cn/conference/2019./papers/222.pdf\n",
      "Downlodaing A Recursive Information Flow Gated Model for RST-style Text-level Discourse Parsing http://tcci.ccf.org.cn/conference/2019./papers/119.pdf\n"
     ]
    },
    {
     "name": "stdout",
     "output_type": "stream",
     "text": [
      "Downlodaing A Sequence-to-Action Architecture for Character-based Chinese Dependency Parsing with Status History http://tcci.ccf.org.cn/conference/2019./papers/301.pdf\n",
      "Downlodaing A Dynamic Word Representation Model Based on Deep Context http://tcci.ccf.org.cn/conference/2019./papers/SW2.pdf\n",
      "Downlodaing A Category Detection Method for Evidence-Based Medicine http://tcci.ccf.org.cn/conference/2019./papers/SW3.pdf\n",
      "Downlodaing Gender Prediction Based on Chinese Name http://tcci.ccf.org.cn/conference/2019./papers/SW4.pdf\n",
      "Downlodaing Explanation Chains Model based on the Fine-grained Data http://tcci.ccf.org.cn/conference/2019./papers/SW5.pdf\n",
      "Downlodaing Overview of the NLPCC 2019 Shared Task: Cross-Domain Dependency Parsing http://tcci.ccf.org.cn/conference/2019./papers/EV21.pdf\n",
      "Downlodaing Domain information Enhanced Dependency Parser http://tcci.ccf.org.cn/conference/2019./papers/EV14.pdf\n",
      "Downlodaing Cross-Domain Transfer Learning for Dependency Parsing http://tcci.ccf.org.cn/conference/2019./papers/EV1.pdf\n",
      "Downlodaing Overview of the NLPCC 2019 Shared Task: Open Domain Semantic Parsing http://tcci.ccf.org.cn/conference/2019./papers/EV20.pdf\n",
      "Downlodaing A Sketch-Based System for Semantic Parsing http://tcci.ccf.org.cn/conference/2019./papers/EV18.pdf\n",
      "Downlodaing Overview of the NLPCC 2019 Shared Task: Open Domain Conversation http://tcci.ccf.org.cn/conference/2019./papers/EV23.pdf\n",
      "Downlodaing DuIE: A Large-scale Chinese Dataset for Information Extraction http://tcci.ccf.org.cn/conference/2019./papers/EV10.pdf\n",
      "Downlodaing Multiple Perspective Answer Reranking for Multi-Passage Reading Comprehension http://tcci.ccf.org.cn/conference/2019./papers/EV12.pdf\n",
      "Downlodaing BSIL: Distributed Neural Network Framework Based Brain Storm for Imbalanced Learning in Text Classification http://tcci.ccf.org.cn/conference/2019./papers/218.pdf\n",
      "Downlodaing A New Fine-Tuning Architecture Based on Bert for Word Relation Extraction http://tcci.ccf.org.cn/conference/2019./papers/314.pdf\n",
      "Downlodaing 细粒度情感分类研究 http://tcci.ccf.org.cn/conference/2019./papers/CN52.pdf\n",
      "Downlodaing Automated ICD Coding Based on Word Embedding with Entry Embedding and Attention Mechanism (基于融合条目词嵌入和注意力机制的自动ICD编码) http://tcci.ccf.org.cn/conference/2019./papers/CN59.pdf\n",
      "Downlodaing Evaluating Semantic Rationality of a Sentence: A Sememe-Word-Matching Neural Network based on HowNet http://tcci.ccf.org.cn/conference/2019./papers/250.pdf\n",
      "Downlodaing Learning Domain Invariant Word Representations for Parsing Domain Adaptation http://tcci.ccf.org.cn/conference/2019./papers/297.pdf\n",
      "Downlodaing Knowledge-Aware Conversational Semantic Parsing Over Web Tables http://tcci.ccf.org.cn/conference/2019./papers/316.pdf\n",
      "Downlodaing Chinese Paraphrase Bank: A Sentence-Level Paraphrase Corpus for Chinese http://tcci.ccf.org.cn/conference/2019./papers/315.pdf\n",
      "Downlodaing 基于多模态融合技术的用户画像研究 http://tcci.ccf.org.cn/conference/2019./papers/CN68.pdf\n",
      "Downlodaing An Abstractive Summarization Method Based on Encoder-sharing and Gated Network http://tcci.ccf.org.cn/conference/2019./papers/CN81.pdf\n",
      "Downlodaing 基于元数据语义表示的学位论文多学科分类 http://tcci.ccf.org.cn/conference/2019./papers/CN90.pdf\n",
      "Downlodaing Dynamic Label Correction for Distant Supervision Relation Extraction via Semantic Similarity http://tcci.ccf.org.cn/conference/2019./papers/80.pdf\n",
      "Downlodaing Group-constrained Embedding of Multi-fold Relations in Knowledge Bases http://tcci.ccf.org.cn/conference/2019./papers/388.pdf\n",
      "Downlodaing Fast and Accurate Bilingual Lexicon Induction via Matching Optimization http://tcci.ccf.org.cn/conference/2019./papers/141.pdf\n",
      "Downlodaing 基于情感信息辅助的多模态情绪识别 http://tcci.ccf.org.cn/conference/2019./papers/CN100.pdf\n",
      "Downlodaing Improving Transformer with Sequential Context Representations for Abstractive Text Summarization http://tcci.ccf.org.cn/conference/2019./papers/321.pdf\n",
      "Downlodaing Automatically Build Corpora for Chinese Spelling Check Based on the Input Method http://tcci.ccf.org.cn/conference/2019./papers/246.pdf\n",
      "Downlodaing Exploration on Generating Traditional Chinese Medicine Prescriptions from Symptoms with an End-to-End Approach http://tcci.ccf.org.cn/conference/2019./papers/287.pdf\n",
      "Downlodaing Evaluating Image-Inspired Poetry Generation http://tcci.ccf.org.cn/conference/2019./papers/343.pdf\n",
      "Downlodaing A Study on Prosodic Distribution of Yes/No Questions with Focus in Mandarin http://tcci.ccf.org.cn/conference/2019./papers/CN32.pdf\n",
      "http://tcci.ccf.org.cn/conference/2019./papers/CN32.pdf is not found.\n",
      "Downlodaing IPRE: a Dataset for Inter-Personal Relationship Extraction http://tcci.ccf.org.cn/conference/2019./papers/355.pdf\n",
      "Downlodaing A Knowledge-Gated Mechanism for Utterance Domain Classification http://tcci.ccf.org.cn/conference/2019./papers/395.pdf\n",
      "Downlodaing An improved class-center method for text classification using dependencies and WordNet http://tcci.ccf.org.cn/conference/2019./papers/50.pdf\n",
      "Downlodaing Document-based Question Answering Improves Query-focused Multi-Document Summarization http://tcci.ccf.org.cn/conference/2019./papers/176.pdf\n",
      "Downlodaing A Key-Phrase Aware End2end Neural Response Generation Model http://tcci.ccf.org.cn/conference/2019./papers/269.pdf\n",
      "Downlodaing Implicit Objective Network for Emotion Detection http://tcci.ccf.org.cn/conference/2019./papers/217.pdf\n",
      "Downlodaing Multi-Task Multi-Head Attention Memory Network for Fine-Grained Sentiment Analysis http://tcci.ccf.org.cn/conference/2019./papers/78.pdf\n",
      "Downlodaing Stance Influences Your Thoughts: Psychology-inspired Social Media Analytics http://tcci.ccf.org.cn/conference/2019./papers/294.pdf\n",
      "Downlodaing Multi-Depth Graph Convolutional Networks for Fake News Detection http://tcci.ccf.org.cn/conference/2019./papers/302.pdf\n",
      "Downlodaing Model the Long-term Post History for Hashtag Recommendation http://tcci.ccf.org.cn/conference/2019./papers/54.pdf\n",
      "Downlodaing 一种融入非结构化背景知识的交互文本立场分析方法 http://tcci.ccf.org.cn/conference/2019./papers/CN60.pdf\n",
      "Downlodaing Improving Question Answering by Commonsense-Based Pre-Training http://tcci.ccf.org.cn/conference/2019./papers/36.pdf\n",
      "Downlodaing Variational Attention for Commonsense Knowledge Aware Conversation Generation http://tcci.ccf.org.cn/conference/2019./papers/49.pdf\n",
      "Downlodaing Automated Thematic and Emotional Modern Chinese Poetry Composition http://tcci.ccf.org.cn/conference/2019./papers/198.pdf\n",
      "Downlodaing Evaluating and Enhancing the Robustness of Retrieval-based Dialogue Systems with Adversarial Examples http://tcci.ccf.org.cn/conference/2019./papers/373.pdf\n",
      "Downlodaing Domain Adaptive Question Answering over Knowledge Base http://tcci.ccf.org.cn/conference/2019./papers/75.pdf\n",
      "Downlodaing Extend the Transformer with Context and Multi-Dimensional Mechanism for Dialogue Response Generation http://tcci.ccf.org.cn/conference/2019./papers/77.pdf\n",
      "Downlodaing Hierarchical-gate Multimodal Network for Human Communication Comprehension http://tcci.ccf.org.cn/conference/2019./papers/104.pdf\n",
      "Downlodaing Attentional Neural Network for Emotion Detection in Conversations with Speaker Influence Awareness http://tcci.ccf.org.cn/conference/2019./papers/230.pdf\n",
      "http://tcci.ccf.org.cn/conference/2019./papers/230.pdf is not found.\n",
      "Downlodaing Multilingual Dialogue Generation with Shared-Private Memory http://tcci.ccf.org.cn/conference/2019./papers/24.pdf\n",
      "Downlodaing KG-to-Text Generation with Slot-Attention and Link-Attention http://tcci.ccf.org.cn/conference/2019./papers/356.pdf\n",
      "Downlodaing REET: Joint Relation Extraction and Entity Typing via Multi-task Learning http://tcci.ccf.org.cn/conference/2019./papers/324.pdf\n",
      "Downlodaing Joint modeling of Recognizing Macro Chinese Discourse Nuclearity and Relation Based on Structure and Topic Gated Semantic Network http://tcci.ccf.org.cn/conference/2019./papers/209.pdf\n",
      "Downlodaing Triple-Joint Modeling for Question Generation using Cross-Task Autoencoder http://tcci.ccf.org.cn/conference/2019./papers/248.pdf\n",
      "Downlodaing Deep Multi-task Learning with Cross Connected Layer for Slot Filling http://tcci.ccf.org.cn/conference/2019./papers/293.pdf\n",
      "Downlodaing 面向维汉神经机器翻译的双向重排序模型分析 http://tcci.ccf.org.cn/conference/2019./papers/CN38.pdf\n",
      "Downlodaing 面向低资源神经机器翻译的回译方法分析 http://tcci.ccf.org.cn/conference/2019./papers/CN87.pdf\n"
     ]
    },
    {
     "name": "stdout",
     "output_type": "stream",
     "text": [
      "Downlodaing 基于语义信息的维汉机器翻译系统融合研究（Research of Uyghur-Chinese Machine Translation System Combination Based on Semantic Information） http://tcci.ccf.org.cn/conference/2019./papers/CN96.pdf\n",
      "Downlodaing Detecting and Translating Dropped Pronouns in Neural Machine Translation http://tcci.ccf.org.cn/conference/2019./papers/22.pdf\n",
      "Downlodaing Target Oriented Data Generation for Quality Estimation of Machine translation http://tcci.ccf.org.cn/conference/2019./papers/291.pdf\n",
      "Downlodaing Improved Quality Estimation of Machine Translation with Pre-trained Language Representation http://tcci.ccf.org.cn/conference/2019./papers/386.pdf\n",
      "Downlodaing Beyond Word for Word: Fact Guided Training for Neural Data-to-Document Generation http://tcci.ccf.org.cn/conference/2019./papers/340.pdf\n",
      "Downlodaing XCMRC: Evaluating Cross-lingual Machine Reading Comprehension http://tcci.ccf.org.cn/conference/2019./papers/354.pdf\n",
      "Downlodaing 一种面向苗汉混合字串的多模式匹配算法 http://tcci.ccf.org.cn/conference/2019./papers/CN26.pdf\n",
      "Downlodaing 融合篇章表征的事件指代消解研究 http://tcci.ccf.org.cn/conference/2019./papers/CN11.pdf\n",
      "Downlodaing Learning Stance Classification with Recurrent Neural Capsule Network http://tcci.ccf.org.cn/conference/2019./papers/136.pdf\n",
      "Downlodaing Neural Melody Composition from Lyrics http://tcci.ccf.org.cn/conference/2019./papers/313.pdf\n",
      "Downlodaing User-Characteristic Enhanced Model for Fake News Detection in Social Media http://tcci.ccf.org.cn/conference/2019./papers/182.pdf\n",
      "Downlodaing Using Bidirectional Transformer-CRF for Spoken Language Understanding http://tcci.ccf.org.cn/conference/2019./papers/307.pdf\n",
      "Downlodaing 基于图卷积网络的事件时序关系识别 http://tcci.ccf.org.cn/conference/2019./papers/CN12.pdf\n",
      "Downlodaing 篇章级事件真实性检测 http://tcci.ccf.org.cn/conference/2019./papers/CN14.pdf\n",
      "Downlodaing 中文事件真实性检测 http://tcci.ccf.org.cn/conference/2019./papers/CN95.pdf\n",
      "Downlodaing Rumor Detection with Hierarchical Recurrent Convolutional Neural Network http://tcci.ccf.org.cn/conference/2019./papers/336.pdf\n",
      "Downlodaing Neural Classifier with Statistic Information of User and Product for Sentiment Analysis http://tcci.ccf.org.cn/conference/2019./papers/376.pdf\n",
      "Downlodaing 面向微博用户的消费意图识别算法(Consumption Intent Recognition Algorithms for Weibo Users) http://tcci.ccf.org.cn/conference/2019./papers/CN85.pdf\n",
      "Downlodaing Co-attention Networks for Aspect-level Sentiment Analysis http://tcci.ccf.org.cn/conference/2019./papers/96.pdf\n",
      "Downlodaing 基于神经耦合模型的异构词法数据转化和融合 http://tcci.ccf.org.cn/conference/2019./papers/CN75.pdf\n",
      "Downlodaing 句法增强的UCCA语义分析方法 http://tcci.ccf.org.cn/conference/2019./papers/CN76.pdf\n",
      "Downlodaing 基于Full-Tree LSTM的树库转化及融合 http://tcci.ccf.org.cn/conference/2019./papers/CN80.pdf\n",
      "Downlodaing 联合自编码任务的多机制融合复述生成模型 http://tcci.ccf.org.cn/conference/2019./papers/CN97.pdf\n",
      "Downlodaing GANCoder：一种基于GAN的从自然语言到程序语言的自动编程方法 http://tcci.ccf.org.cn/conference/2019./papers/CN114.pdf\n",
      "Downlodaing CPLM-CSC：基于单字级别预训练语言模型的中文错别字纠正方法 http://tcci.ccf.org.cn/conference/2019./papers/CN117.pdf\n",
      "Downlodaing Multi-Grain-Level Representation Learning for Implicit Discourse Relation Recognition http://tcci.ccf.org.cn/conference/2019./papers/108.pdf\n",
      "Downlodaing Learning Diachronic Word Embeddings with Iterative Stable Information Alignment http://tcci.ccf.org.cn/conference/2019./papers/160.pdf\n",
      "Downlodaing 藏文音节构件分解及类型识别算法 http://tcci.ccf.org.cn/conference/2019./papers/CN4.pdf\n",
      "Downlodaing Automatic Proofreading in Chinese: Detect and Correct Spelling Errors in Character-level with Deep Neural Networks http://tcci.ccf.org.cn/conference/2019./papers/365.pdf\n",
      "Downlodaing Classification Over Clustering: Augmenting Text Representation with Clusters Helps! http://tcci.ccf.org.cn/conference/2019./papers/122.pdf\n",
      "Downlodaing 基于主题约束的篇章级文本生成方法研究 http://tcci.ccf.org.cn/conference/2019./papers/CN91.pdf\n",
      "Downlodaing Shared-private LSTM for Multi-domain Text Classification http://tcci.ccf.org.cn/conference/2019./papers/360.pdf\n",
      "Downlodaing Co-Attention and Aggregation Based Chinese Recognizing Textual Entailment Model http://tcci.ccf.org.cn/conference/2019./papers/364.pdf\n",
      "Downlodaing FlexNER: A Flexible LSTM-CNN Stack Framework for Named Entity Recognition http://tcci.ccf.org.cn/conference/2019./papers/37.pdf\n",
      "Downlodaing Relation Classification in Scientific Papers Based on Convolutional Neural Network http://tcci.ccf.org.cn/conference/2019./papers/130.pdf\n",
      "Downlodaing A Hierarchical Model with Recurrent Convolutional Neural Networks for Sequential Sentence Classification http://tcci.ccf.org.cn/conference/2019./papers/303.pdf\n",
      "Downlodaing REKER: Relation Extraction with Knowledge of Entity and Relation http://tcci.ccf.org.cn/conference/2019./papers/339.pdf\n",
      "Downlodaing Using Dependency Information to Enhance Attention Mechanism for Aspect-based Sentiment Analysis http://tcci.ccf.org.cn/conference/2019./papers/281.pdf\n",
      "Downlodaing Combining External Sentiment Knowledge for Emotion Cause Detection http://tcci.ccf.org.cn/conference/2019./papers/345.pdf\n",
      "Downlodaing An Automatic Spelling Correction Method for Classical Mongolian http://tcci.ccf.org.cn/conference/2019./papers/56.pdf\n",
      "Downlodaing End-to-End Model for Offline Handwritten Mongolian Word Recognition http://tcci.ccf.org.cn/conference/2019./papers/105.pdf\n",
      "Downlodaing 基于产品信息的评价问题生成 http://tcci.ccf.org.cn/conference/2019./papers/CN77.pdf\n"
     ]
    }
   ],
   "source": [
    "# 下载\n",
    "def download2(name, url):\n",
    "    try:\n",
    "        print('Downlodaing '+str(name)+' '+str(url))\n",
    "        r = requests.get(url,stream=True)\n",
    "        # print(name)\n",
    "        with open('%s.pdf'%str(name),'wb') as pdf:\n",
    "            for chunk in r.iter_content(chunk_size=1024):\n",
    "                if chunk:\n",
    "                    pdf.write(chunk)\n",
    "    except:\n",
    "        print(url + ' is not found.')\n",
    "    \n",
    "for i in range(len(names)):\n",
    "    download2(names[i], link_all[i])"
   ]
  },
  {
   "cell_type": "code",
   "execution_count": null,
   "metadata": {},
   "outputs": [],
   "source": [
    "# 完整代码\n",
    "import requests\n",
    "from lxml import etree\n",
    "\n",
    "# 1. 解析出176个标题和232个链接\n",
    "result = requests.get('http://tcci.ccf.org.cn/conference/2019/pro_session.php').content\n",
    "html = etree.HTML(result)\n",
    "names = html.xpath(\"//div[@class='programtitle']/a/span/text()\")\n",
    "links = html.xpath(\"//div[@class='programtitle']/a/@href\")\n",
    "\n",
    "# 2. 删除掉没用的链接还剩164个\n",
    "for i in links:\n",
    "    if i.endswith('/.pdf'):\n",
    "        links.remove(i)\n",
    "\n",
    "# 3. 把names和links分别写入到txt当中，并读取names和links列表，均为164\n",
    "with open('names.txt', 'w') as f:\n",
    "    for i in names:\n",
    "        f.write(i)\n",
    "        f.write('\\n')\n",
    "with open('links.txt', 'w') as f:\n",
    "    for i in links:\n",
    "        f.write(i)\n",
    "        f.write('\\n')\n",
    "        \n",
    "with open('names.txt', 'r') as f: \n",
    "    names = [i.strip() for i in f.readlines()]\n",
    "with open('links.txt', 'r') as f: \n",
    "    links = [i.strip() for i in f.readlines()]\n",
    "    \n",
    "# 4. 拼接链接\n",
    "link_all = []\n",
    "for i in links:\n",
    "    link = 'http://tcci.ccf.org.cn/conference/2019'+ i \n",
    "    link_all.append(link)\n",
    "\n",
    "# 5. 下载所有PDF\n",
    "def download2(name, url):\n",
    "    try:\n",
    "        print('Downlodaing '+str(name)+' '+str(url))\n",
    "        r = requests.get(url,stream=True)\n",
    "        # print(name)\n",
    "        with open('%s.pdf'%str(name),'wb') as pdf:\n",
    "            for chunk in r.iter_content(chunk_size=1024):\n",
    "                if chunk:\n",
    "                    pdf.write(chunk)\n",
    "    except:\n",
    "        print(url + ' is not found.')\n",
    "    \n",
    "for i in range(len(names)):\n",
    "    download2(names[i], link_all[i])"
   ]
  }
 ],
 "metadata": {
  "kernelspec": {
   "display_name": "Python 3",
   "language": "python",
   "name": "python3"
  },
  "language_info": {
   "codemirror_mode": {
    "name": "ipython",
    "version": 3
   },
   "file_extension": ".py",
   "mimetype": "text/x-python",
   "name": "python",
   "nbconvert_exporter": "python",
   "pygments_lexer": "ipython3",
   "version": "3.7.3"
  }
 },
 "nbformat": 4,
 "nbformat_minor": 2
}
