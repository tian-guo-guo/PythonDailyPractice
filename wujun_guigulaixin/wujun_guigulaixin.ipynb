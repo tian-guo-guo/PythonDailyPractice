{
 "cells": [
  {
   "cell_type": "code",
   "execution_count": 34,
   "metadata": {},
   "outputs": [],
   "source": [
    "with open('links.txt', 'r') as f:\n",
    "    links = f.readlines()\n",
    "    \n",
    "# len(links), links"
   ]
  },
  {
   "cell_type": "code",
   "execution_count": 118,
   "metadata": {},
   "outputs": [],
   "source": [
    "with open('names.txt', 'r') as f: \n",
    "    names = f.readlines()\n",
    "    names = [i.strip() for i in names]\n",
    "    \n",
    "# len(names), names"
   ]
  },
  {
   "cell_type": "code",
   "execution_count": 84,
   "metadata": {},
   "outputs": [],
   "source": [
    "from lxml import etree\n",
    "from urllib.request import urlopen\n",
    "\n",
    "parse = etree.HTMLParser()\n",
    "\n",
    "mp3_links = []\n",
    "for link in links:\n",
    "    with urlopen(link) as f: \n",
    "        tree = etree.parse(f, parse)\n",
    "        mp3_link = tree.xpath('//div/dl[@class=\"fr intro \"]/dd/input[@id=\"mp3\"]/@value')\n",
    "        mp3_links.append(mp3_link)\n",
    "        \n",
    "# len(mp3_links)"
   ]
  },
  {
   "cell_type": "code",
   "execution_count": null,
   "metadata": {},
   "outputs": [],
   "source": [
    "import urllib.request\n",
    "\n",
    "response = urllib.request"
   ]
  },
  {
   "cell_type": "code",
   "execution_count": 117,
   "metadata": {},
   "outputs": [
    {
     "name": "stdout",
     "output_type": "stream",
     "text": [
      "http://image.kaolafm.net/mz/audios/201802/1adab605-851e-4395-b469-d881382dd063.mp3 is not found.\n",
      "http://image.kaolafm.net/mz/audios/201802/41b5495e-9bad-478d-a12b-f7f88dfd2bd0.mp3 is not found.\n",
      "http://image.kaolafm.net/mz/audios/201802/4d84fea4-ce89-4034-9d73-d1f32d5b004f.mp3 is not found.\n"
     ]
    }
   ],
   "source": [
    "import requests\n",
    "import urllib\n",
    "\n",
    "for i in range(len(mp3_links)):\n",
    "    link = mp3_links[i][0]\n",
    "    try:\n",
    "        response = urllib.request.urlopen(link).read()\n",
    "        with open('%s.mp3'%names[i], 'wb') as f: \n",
    "            f.write(response)\n",
    "    except:\n",
    "        print(link+' is not found.')"
   ]
  }
 ],
 "metadata": {
  "kernelspec": {
   "display_name": "Python 3",
   "language": "python",
   "name": "python3"
  },
  "language_info": {
   "codemirror_mode": {
    "name": "ipython",
    "version": 3
   },
   "file_extension": ".py",
   "mimetype": "text/x-python",
   "name": "python",
   "nbconvert_exporter": "python",
   "pygments_lexer": "ipython3",
   "version": "3.7.3"
  }
 },
 "nbformat": 4,
 "nbformat_minor": 2
}
